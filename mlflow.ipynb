{
 "cells": [
  {
   "cell_type": "code",
   "execution_count": null,
   "id": "52352ff5-b91c-4fc5-8ede-778ec6bb3878",
   "metadata": {
    "execution": {
     "iopub.execute_input": "2024-02-28T12:26:51.475091Z",
     "iopub.status.busy": "2024-02-28T12:26:51.474574Z",
     "iopub.status.idle": "2024-02-28T12:26:56.117349Z",
     "shell.execute_reply": "2024-02-28T12:26:56.116834Z"
    },
    "tags": []
   },
   "outputs": [],
   "source": [
    "import sys\n",
    "sys.path.append(\"ANN_scripts\")\n",
    "import numpy as np\n",
    "import mlflow as mlf\n",
    "import mlflow.sklearn\n",
    "import pandas as pd\n",
    "import numpy as np\n",
    "import torch\n",
    "import torch.nn\n",
    "from NeuralNetwork import NeuralNetwork\n",
    "import os\n"
   ]
  },
  {
   "cell_type": "markdown",
   "id": "59ddc965",
   "metadata": {},
   "source": [
    "### Definimos las variables de las métricas, los modelos, los parámetros y los sets de datos."
   ]
  },
  {
   "cell_type": "code",
   "execution_count": null,
   "id": "c829e223",
   "metadata": {
    "execution": {
     "iopub.execute_input": "2024-02-28T12:26:56.134940Z",
     "iopub.status.busy": "2024-02-28T12:26:56.134425Z",
     "iopub.status.idle": "2024-02-28T12:26:57.006975Z",
     "shell.execute_reply": "2024-02-28T12:26:57.005423Z"
    }
   },
   "outputs": [],
   "source": [
    "variables = []\n",
    "pkls = os.listdir(\"./pkl\")\n",
    "pkls.sort()\n",
    "for pkl in pkls:\n",
    "    variables.append(pd.read_pickle(f\"./pkl/{pkl}\"))\n",
    "\n",
    "precision_test, recall_test, precision_train, recall_train, X_test_ann, X_test_xgb     = variables[:6] \n",
    "X_train_ann, X_train_xgb, accuracy_test_ann, accuracy_train_ann, ann_model, params_ann = variables[6:12] \n",
    "params_xgb, xgb_clf, y_test_ann, y_test_xgb, y_train_ann, y_train_xgb                  = variables[12:] \n"
   ]
  },
  {
   "cell_type": "markdown",
   "id": "17459871",
   "metadata": {},
   "source": [
    "### Se registran los modelos, las métricas y los parámetros."
   ]
  },
  {
   "cell_type": "code",
   "execution_count": null,
   "id": "32eda703",
   "metadata": {
    "execution": {
     "iopub.execute_input": "2024-02-28T12:26:57.026694Z",
     "iopub.status.busy": "2024-02-28T12:26:57.026177Z",
     "iopub.status.idle": "2024-02-28T12:27:13.948321Z",
     "shell.execute_reply": "2024-02-28T12:27:13.947275Z"
    }
   },
   "outputs": [],
   "source": [
    "run_id = None\n",
    "\n",
    "with mlf.start_run(run_name=\"Sleep Disorder Classifiers\", description=\"ANN and XGB comparison\") as run:\n",
    "    mlf.log_metric(\"XGB_precision_train\", precision_train*100)\n",
    "    mlf.log_metric(\"XGB_recall_train\", recall_train*100)\n",
    "    mlf.log_metric(\"XGB_precision_test\", precision_test*100)\n",
    "    mlf.log_metric(\"XGB_recall_test\", recall_test*100)\n",
    "    mlf.log_metric(\"ANN_acuraccy_train\", accuracy_train_ann)\n",
    "    mlf.log_metric(\"ANN_acuraccy_test\", accuracy_test_ann)\n",
    "    mlf.log_params(params_xgb)\n",
    "    mlf.log_params(params_ann)\n",
    "    mlf.sklearn.log_model(xgb_clf, artifact_path=\"model_xgb\")\n",
    "    mlf.sklearn.log_model(ann_model, artifact_path=\"model_ann\")\n",
    "\n",
    "    run_id = run.info.run_id\n",
    "    print(\"Model saved in run %s\" % run_id)"
   ]
  },
  {
   "attachments": {},
   "cell_type": "markdown",
   "id": "da0688cb-ba45-4569-8321-574faa711427",
   "metadata": {},
   "source": [
    "### Cargamos el modelo XGB y realizamos una predicción"
   ]
  },
  {
   "cell_type": "code",
   "execution_count": null,
   "id": "26b649e9-ff20-4f27-9ee2-2978473126c6",
   "metadata": {
    "execution": {
     "iopub.execute_input": "2024-02-28T12:27:13.954054Z",
     "iopub.status.busy": "2024-02-28T12:27:13.953532Z",
     "iopub.status.idle": "2024-02-28T12:27:14.036540Z",
     "shell.execute_reply": "2024-02-28T12:27:14.035501Z"
    },
    "tags": []
   },
   "outputs": [],
   "source": [
    "model_uri = \"runs:/{}/model_xgb\".format(run_id)\n",
    "loaded_xgb_model = mlflow.sklearn.load_model(model_uri)\n",
    "print(\"---Predicciones XGB---\\n\",loaded_xgb_model.predict(X_test_xgb))"
   ]
  },
  {
   "cell_type": "markdown",
   "id": "f96f6317",
   "metadata": {},
   "source": [
    "### Cargamos el modelo ANN y realizamos una predicción"
   ]
  },
  {
   "cell_type": "code",
   "execution_count": null,
   "id": "be4e381e",
   "metadata": {
    "execution": {
     "iopub.execute_input": "2024-02-28T12:27:14.044390Z",
     "iopub.status.busy": "2024-02-28T12:27:14.043862Z",
     "iopub.status.idle": "2024-02-28T12:27:14.159257Z",
     "shell.execute_reply": "2024-02-28T12:27:14.158736Z"
    }
   },
   "outputs": [],
   "source": [
    "model_uri = \"runs:/{}/model_ann\".format(run_id)\n",
    "loaded_ann_model = mlflow.sklearn.load_model(model_uri)\n",
    "X_test_tensor  = torch.tensor(X_test_ann.values.astype(np.float32), dtype=torch.float32)\n",
    "pred = loaded_ann_model(X_test_tensor)\n",
    "predicted_labels = torch.argmax(pred, dim=1)\n",
    "print(\"---Predicciones ANN---\\n\",predicted_labels)"
   ]
  }
 ],
 "metadata": {
  "kernelspec": {
   "display_name": "Python 3 (ipykernel)",
   "language": "python",
   "name": "python3"
  },
  "language_info": {
   "codemirror_mode": {
    "name": "ipython",
    "version": 3
   },
   "file_extension": ".py",
   "mimetype": "text/x-python",
   "name": "python",
   "nbconvert_exporter": "python",
   "pygments_lexer": "ipython3",
   "version": "3.11.5"
  }
 },
 "nbformat": 4,
 "nbformat_minor": 5
}
