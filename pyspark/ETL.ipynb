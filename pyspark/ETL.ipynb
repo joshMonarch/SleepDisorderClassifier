{
 "cells": [
  {
   "cell_type": "code",
   "execution_count": 1,
   "id": "bce78fc5-1034-4f1e-bbe0-ef1f30af5dd2",
   "metadata": {},
   "outputs": [],
   "source": [
    "from pyspark.sql import SparkSession, Window\n",
    "import pyspark.sql.functions as F\n",
    "from pyspark.sql.types import StringType, IntegerType, FloatType\n",
    "import os"
   ]
  },
  {
   "cell_type": "markdown",
   "id": "464fedf2-6959-493e-b931-7b06f3a66532",
   "metadata": {},
   "source": [
    "### Instantiating a Spark session and reading csv"
   ]
  },
  {
   "cell_type": "code",
   "execution_count": 2,
   "id": "6b867f35-d14d-485f-9b30-c99de3e68a59",
   "metadata": {},
   "outputs": [
    {
     "name": "stdout",
     "output_type": "stream",
     "text": [
      "root\n",
      " |-- Person ID: integer (nullable = true)\n",
      " |-- Gender: string (nullable = true)\n",
      " |-- Age: integer (nullable = true)\n",
      " |-- Occupation: string (nullable = true)\n",
      " |-- Sleep Duration: double (nullable = true)\n",
      " |-- Quality of Sleep: integer (nullable = true)\n",
      " |-- Physical Activity Level: integer (nullable = true)\n",
      " |-- Stress Level: integer (nullable = true)\n",
      " |-- BMI Category: string (nullable = true)\n",
      " |-- Blood Pressure: string (nullable = true)\n",
      " |-- Heart Rate: integer (nullable = true)\n",
      " |-- Daily Steps: integer (nullable = true)\n",
      " |-- Sleep Disorder: string (nullable = true)\n",
      "\n"
     ]
    }
   ],
   "source": [
    "spark = SparkSession.builder.getOrCreate()\n",
    "csv= \"Sleep_health_and_lifestyle_dataset.csv\"\n",
    "data = spark.read.csv(csv, header=True, inferSchema=True)\n",
    "data.printSchema()"
   ]
  },
  {
   "cell_type": "markdown",
   "id": "0cc28653-17e2-4049-8c33-471d8e4d8127",
   "metadata": {},
   "source": [
    "### Defining fuctions in charge of performing data cleaning "
   ]
  },
  {
   "cell_type": "code",
   "execution_count": 3,
   "id": "35104509-32ba-465a-9333-ace3a46a8e12",
   "metadata": {},
   "outputs": [],
   "source": [
    "def assign_row_numbers(df, column, distinct=True):\n",
    "    window = Window.orderBy(column)\n",
    "    column_with_numbers = df.withColumn(\"ID_\" + column, F.dense_rank().over(window)-1)\n",
    "    if distinct:\n",
    "        return column_with_numbers.distinct() \n",
    "    else: \n",
    "        return column_with_numbers\n",
    "\n",
    "def check_duplicates(data, column):\n",
    "    duplicates = data.groupBy(column).count().filter(F.col(\"count\") > 1)\n",
    "    if duplicates.count() != 0:\n",
    "        print(\"Hay duplicados\")\n",
    "        print(f\"Nº de duplicados: {duplicates.count()}\")\n",
    "        data = data.withColumn(column, F.col(column)).dropDuplicates() \n",
    "    return data\n",
    "\n",
    "def cleaning(data, id_column, columnas_float, columnas_union, columnas_num): \n",
    "    data = data.withColumn('Sleep Duration', F.col('Sleep Duration').cast('float'))\n",
    "    \n",
    "    data = data.withColumn(columnas_union, F.when(F.col(columnas_union).isin(['Normal', 'Normal Weight']), 'Normal Weight') \\\n",
    "                           .otherwise(F.col(columnas_union))) \n",
    "    \n",
    "    data = data.withColumn('Sistolic Pressure', F.split(F.col(columnas_float), '/').getItem(0).cast('float')) \n",
    "    data = data.withColumn('Diastolic Pressure', F.split(F.col(columnas_float), '/').getItem(1).cast('float'))\n",
    "\n",
    "    for col in columnas_num:\n",
    "        data = assign_row_numbers(data, col, distinct = False)\n",
    "    \n",
    "    data = check_duplicates(data, id_column)\n",
    "\n",
    "    new_names = {col: col.replace(' ', '_') for col in data.columns if ' ' in col}\n",
    "    data = data.withColumnsRenamed(new_names)\n",
    "    \n",
    "    return data"
   ]
  },
  {
   "cell_type": "markdown",
   "id": "2f303ad3-f05c-453b-b115-cb7be1957287",
   "metadata": {},
   "source": [
    "### Defining functions that handle the following quality testing: \n",
    "- Uniqueness\n",
    "- Integrity\n",
    "- Consistency\n",
    "- Validity\n",
    "- Completeness"
   ]
  },
  {
   "cell_type": "code",
   "execution_count": 8,
   "id": "5fce7b20-addc-4a18-9670-5bc09bc46427",
   "metadata": {},
   "outputs": [],
   "source": [
    "def validate_type(df):\n",
    "    required_types = {\n",
    "        'Person_ID': IntegerType(),               'Gender': StringType(),\n",
    "        'Age': IntegerType(),                     'Occupation': StringType(),\n",
    "        'Sleep_Duration': FloatType(),            'Quality_of_Sleep': IntegerType(),\n",
    "        'Physical_Activity_Level': IntegerType(), 'Stress_Level': IntegerType(),\n",
    "        'BMI_Category': StringType(),             'Blood_Pressure': StringType(),\n",
    "        'Heart_Rate': IntegerType(),              'Daily_Steps': IntegerType(),\n",
    "        'Sleep_Disorder': StringType(),           'Sistolic_Pressure': FloatType(),\n",
    "        'Diastolic_Pressure': FloatType(),        'ID_Sleep_Disorder': IntegerType(), \n",
    "        'ID_Gender': IntegerType(),               'ID_Occupation': IntegerType(), \n",
    "        'ID_BMI_Category': IntegerType()\n",
    "    }\n",
    "    for columna, type in required_types.items():\n",
    "        if df.schema[columna].dataType != type:\n",
    "            print(f'La columna {columna} tiene tipado incorrecto: \\\n",
    "                 {type} en lugar de {df.schema[columna].dataType}')\n",
    "    return True\n",
    "\n",
    "def verify_records_number(df, table_bd):\n",
    "    df_records = df.count()\n",
    "    sleep_table = spark.read \\\n",
    "    .format(\"jdbc\") \\\n",
    "    .option(\"url\", url) \\\n",
    "    .option(\"dbtable\", table_bd) \\\n",
    "    .options(**properties) \\\n",
    "    .load()\n",
    "    \n",
    "    bd_records = sleep_table.count()\n",
    "    if df_records == bd_records:\n",
    "        print(f'Nº of records in df ({df_records}) coincides with the nº of records in bd ({bd_records})')\n",
    "    else: \n",
    "        print(f'It does not coincide the nº of records in df ({df_records}) with the nº of records in db ({bd_records})')\n",
    "\n",
    "def verify_nulls(df):\n",
    "    for column in data.columns:\n",
    "        if df.filter(F.col(column).isNull()).count() > 0: \n",
    "            print(f\"There are {df.filter(F.col(column).isNull()).count()} mulls in column {column}\")\n",
    "        else:\n",
    "            hay_nulos = False\n",
    "    if not hay_nulos:  \n",
    "        print('There are not nulls')\n",
    "\n",
    "def verify_duplicates(df):\n",
    "    return df.dropDuplicates().count() == df.count()"
   ]
  },
  {
   "cell_type": "code",
   "execution_count": 5,
   "id": "3e4e0fdd-339a-4cac-9189-18dbd8edee53",
   "metadata": {},
   "outputs": [
    {
     "name": "stdout",
     "output_type": "stream",
     "text": [
      "root\n",
      " |-- Person_ID: integer (nullable = true)\n",
      " |-- Gender: string (nullable = true)\n",
      " |-- Age: integer (nullable = true)\n",
      " |-- Occupation: string (nullable = true)\n",
      " |-- Sleep_Duration: float (nullable = true)\n",
      " |-- Quality_of_Sleep: integer (nullable = true)\n",
      " |-- Physical_Activity_Level: integer (nullable = true)\n",
      " |-- Stress_Level: integer (nullable = true)\n",
      " |-- BMI_Category: string (nullable = true)\n",
      " |-- Blood_Pressure: string (nullable = true)\n",
      " |-- Heart_Rate: integer (nullable = true)\n",
      " |-- Daily_Steps: integer (nullable = true)\n",
      " |-- Sleep_Disorder: string (nullable = true)\n",
      " |-- Sistolic_Pressure: float (nullable = true)\n",
      " |-- Diastolic_Pressure: float (nullable = true)\n",
      " |-- ID_Sleep_Disorder: integer (nullable = false)\n",
      " |-- ID_Gender: integer (nullable = false)\n",
      " |-- ID_Occupation: integer (nullable = false)\n",
      " |-- ID_BMI_Category: integer (nullable = false)\n",
      "\n"
     ]
    }
   ],
   "source": [
    "id_column = \"Person ID\"\n",
    "float_columns = \"Blood Pressure\"\n",
    "union_columns = \"BMI Category\"\n",
    "num_columns = [\"Sleep Disorder\", \"Gender\", \"Occupation\", \"BMI Category\"]\n",
    "data = cleaning(data, id_column, float_columns, union_columns, num_columns)\n",
    "data.printSchema()"
   ]
  },
  {
   "cell_type": "code",
   "execution_count": 6,
   "id": "49631f2d-4aea-4ce0-86d0-e2a199de09d0",
   "metadata": {},
   "outputs": [
    {
     "name": "stdout",
     "output_type": "stream",
     "text": [
      "No hay nulos\n"
     ]
    }
   ],
   "source": [
    "verify_nulls(data)"
   ]
  },
  {
   "cell_type": "code",
   "execution_count": 9,
   "id": "f8af493f-ee97-42bc-ab47-64309f02e929",
   "metadata": {},
   "outputs": [
    {
     "data": {
      "text/plain": [
       "True"
      ]
     },
     "execution_count": 9,
     "metadata": {},
     "output_type": "execute_result"
    }
   ],
   "source": [
    "validate_type(data)"
   ]
  },
  {
   "cell_type": "code",
   "execution_count": 10,
   "id": "ffd71ea5-790f-4a1f-9d6d-f9c82fad9cc7",
   "metadata": {},
   "outputs": [
    {
     "data": {
      "text/plain": [
       "True"
      ]
     },
     "execution_count": 10,
     "metadata": {},
     "output_type": "execute_result"
    }
   ],
   "source": [
    "verify_duplicates(data)"
   ]
  },
  {
   "cell_type": "code",
   "execution_count": 11,
   "id": "1a3e63cd-1b59-49ce-838a-eddc11af97b6",
   "metadata": {},
   "outputs": [],
   "source": [
    "data = data.withColumn(\"Person_ID\", data[\"Person_ID\"] - 1)"
   ]
  },
  {
   "cell_type": "code",
   "execution_count": 12,
   "id": "1bea8751-b797-48d3-96eb-d0a6004d86c7",
   "metadata": {},
   "outputs": [
    {
     "data": {
      "text/plain": [
       "0"
      ]
     },
     "execution_count": 12,
     "metadata": {},
     "output_type": "execute_result"
    }
   ],
   "source": [
    "data.agg(F.min(\"Person_ID\")).collect()[0][0]"
   ]
  },
  {
   "cell_type": "code",
   "execution_count": 13,
   "id": "1c970a6b-8ac5-4519-a113-aa8c464f797c",
   "metadata": {},
   "outputs": [
    {
     "name": "stdout",
     "output_type": "stream",
     "text": [
      "+------+---------+\n",
      "|Gender|ID_Gender|\n",
      "+------+---------+\n",
      "|Female|        0|\n",
      "|  Male|        1|\n",
      "+------+---------+\n",
      "\n"
     ]
    }
   ],
   "source": [
    "selected_column = data.select(\"Gender\")\n",
    "df_gender = assign_row_numbers(selected_column, \"Gender\")\n",
    "df_gender.show()"
   ]
  },
  {
   "cell_type": "code",
   "execution_count": 14,
   "id": "42827d51-d7fc-42fc-bfb8-35dc46b304ba",
   "metadata": {},
   "outputs": [
    {
     "name": "stdout",
     "output_type": "stream",
     "text": [
      "+--------------+-----------------+\n",
      "|Sleep_Disorder|ID_Sleep_Disorder|\n",
      "+--------------+-----------------+\n",
      "|      Insomnia|                0|\n",
      "|          None|                1|\n",
      "|   Sleep Apnea|                2|\n",
      "+--------------+-----------------+\n",
      "\n"
     ]
    }
   ],
   "source": [
    "selected_column = data.select(\"Sleep_Disorder\")\n",
    "df_sleep_disorder = assign_row_numbers(selected_column, \"Sleep_Disorder\")\n",
    "df_sleep_disorder.show()"
   ]
  },
  {
   "cell_type": "code",
   "execution_count": 15,
   "id": "d52d1de2-3c05-4cbb-825f-f8cfd0055c96",
   "metadata": {},
   "outputs": [
    {
     "name": "stdout",
     "output_type": "stream",
     "text": [
      "+-------------+---------------+\n",
      "| BMI_category|ID_BMI_category|\n",
      "+-------------+---------------+\n",
      "|Normal Weight|              0|\n",
      "|        Obese|              1|\n",
      "|   Overweight|              2|\n",
      "+-------------+---------------+\n",
      "\n"
     ]
    }
   ],
   "source": [
    "selected_column = data.select(\"BMI_category\")\n",
    "df_bmi_category = assign_row_numbers(selected_column, \"BMI_category\")\n",
    "df_bmi_category.show()"
   ]
  },
  {
   "cell_type": "code",
   "execution_count": 16,
   "id": "fdfefe08-4845-4346-80ea-f3d9a6df4b1d",
   "metadata": {},
   "outputs": [
    {
     "name": "stdout",
     "output_type": "stream",
     "text": [
      "+--------------------+-------------+\n",
      "|          Occupation|ID_Occupation|\n",
      "+--------------------+-------------+\n",
      "|          Accountant|            0|\n",
      "|              Doctor|            1|\n",
      "|            Engineer|            2|\n",
      "|              Lawyer|            3|\n",
      "|             Manager|            4|\n",
      "|               Nurse|            5|\n",
      "|Sales Representative|            6|\n",
      "|         Salesperson|            7|\n",
      "|           Scientist|            8|\n",
      "|   Software Engineer|            9|\n",
      "|             Teacher|           10|\n",
      "+--------------------+-------------+\n",
      "\n"
     ]
    }
   ],
   "source": [
    "selected_column = data.select(\"Occupation\")\n",
    "df_occupation = assign_row_numbers(selected_column, \"Occupation\")\n",
    "df_occupation.show()"
   ]
  },
  {
   "cell_type": "code",
   "execution_count": 17,
   "id": "8c6c80fd-5250-4731-a782-3ebc3fbefd3d",
   "metadata": {},
   "outputs": [],
   "source": [
    "facts_table         = 'facts'\n",
    "dim_occupation_table = 'occupation'\n",
    "dim_gender_table     = 'gender'\n",
    "dim_bmi_table        = 'bmi'\n",
    "dim_disorder_table   = 'disorder'"
   ]
  },
  {
   "cell_type": "code",
   "execution_count": 20,
   "id": "eec7e3e1-d64e-4fae-8daf-5d3036e619fe",
   "metadata": {},
   "outputs": [],
   "source": [
    "url = f\"jdbc:mysql://{os.environ['DB_HOST']}:3306/{os.environ['DB_NAME']}\"\n",
    "properties = {\n",
    "    \"driver\"   : \"com.mysql.jdbc.Driver\",\n",
    "    \"user\"     : os.environ[\"DB_USER\"],\n",
    "    \"password\" : os.environ[\"DB_PASSWORD\"]\n",
    "    }"
   ]
  },
  {
   "cell_type": "code",
   "execution_count": 21,
   "id": "901ba73d-b9bd-47a2-9e98-2b13f278421b",
   "metadata": {},
   "outputs": [],
   "source": [
    "cols = [\n",
    "    'Person_ID','ID_Gender','Age','ID_Occupation','Sleep_Duration','Quality_of_Sleep','Physical_Activity_Level',\n",
    "    'Stress_Level','Heart_Rate','Daily_Steps','ID_Sleep_Disorder','Sistolic_Pressure','Diastolic_Pressure','ID_BMI_Category'\n",
    "    ]\n",
    "\n",
    "data.select(cols).write.format(\"jdbc\") \\\n",
    "    .option(\"url\", url) \\\n",
    "    .option(\"dbtable\", facts_table) \\\n",
    "    .options(**properties) \\\n",
    "    .save()"
   ]
  },
  {
   "cell_type": "code",
   "execution_count": 22,
   "id": "274da9e6-e32e-4eae-874c-d135aa696ce2",
   "metadata": {},
   "outputs": [],
   "source": [
    "dict_tb = {\n",
    "    dim_gender_table    : df_gender,\n",
    "    dim_disorder_table  : df_sleep_disorder,\n",
    "    dim_bmi_table       : df_bmi_category,\n",
    "    dim_occupation_tables: df_occupation\n",
    "}\n",
    "for tb, df in dict_tb.items():\n",
    "    df.select(\"*\").write.format(\"jdbc\") \\\n",
    "    .option(\"url\", url) \\\n",
    "    .option(\"dbtable\", tb) \\\n",
    "    .options(**properties) \\\n",
    "    .save()"
   ]
  },
  {
   "cell_type": "code",
   "execution_count": 23,
   "id": "eb8d4e0e-d9bb-49e0-b9bf-8e4a9c284dee",
   "metadata": {},
   "outputs": [],
   "source": [
    "def verify_relationships(table_pk, pk, table_fk, fk):\n",
    "    upperbound_dim = data.agg(F.max(fk)).collect()[0][0]\n",
    "    lowerbound_dim = data.agg(F.min(fk)).collect()[0][0]\n",
    "    upperbound_hechos = data.agg(F.max(pk)).collect()[0][0]\n",
    "    lowerbound_hechos = data.agg(F.min(pk)).collect()[0][0]\n",
    "    #print(lowerbound_hechos,upperbound_hechos,lowerbound_dim,upperbound_dim)\n",
    "    facts_id = spark.read.format(\"jdbc\") \\\n",
    "                .option(\"url\", url) \\\n",
    "                .option(\"dbtable\", table_pk) \\\n",
    "                .option(\"partitionColumn\", pk) \\\n",
    "                .option(\"lowerBound\", lowerbound_hechos) \\\n",
    "                .option(\"upperBound\", upperbound_hechos) \\\n",
    "                .option(\"numPartitions\", 1) \\\n",
    "                .options(**properties) \\\n",
    "                .load()\n",
    "    dim_id = spark.read.format(\"jdbc\") \\\n",
    "             .option(\"url\", url) \\\n",
    "             .option(\"dbtable\", table_fk) \\\n",
    "             .option(\"partitionColumn\", fk) \\\n",
    "             .option(\"lowerBound\", lowerbound_dim) \\\n",
    "             .option(\"upperBound\", upperbound_dim) \\\n",
    "             .option(\"numPartitions\", 1) \\\n",
    "             .options(**properties) \\\n",
    "             .load()\n",
    "\n",
    "    # Verify consistency between PKs and FKs\n",
    "    consistency = dim_id.join(facts_id, dim_id[fk] == facts_id[pk], \"leftanti\")\n",
    "\n",
    "    # Show unconsitent records\n",
    "    if consistency.count() > 0:\n",
    "        return print(f\"There is not consistency between keys: {consistency}\")\n",
    "    else:\n",
    "        return \"There is consistency between keys\""
   ]
  },
  {
   "cell_type": "code",
   "execution_count": 24,
   "id": "46508a61-dc10-4d16-b7ce-7ea048b29f83",
   "metadata": {},
   "outputs": [
    {
     "data": {
      "text/plain": [
       "'Hay consistencia entre las claves'"
      ]
     },
     "execution_count": 24,
     "metadata": {},
     "output_type": "execute_result"
    }
   ],
   "source": [
    "verify_relationships(facts_table, \"Person_ID\", dim_disorder_table, \"ID_Sleep_Disorder\")"
   ]
  },
  {
   "cell_type": "code",
   "execution_count": 25,
   "id": "4dbec1ff-7543-45b7-9ce6-b6b5f9cc2d59",
   "metadata": {},
   "outputs": [
    {
     "name": "stdout",
     "output_type": "stream",
     "text": [
      "Coinciden el nº de registros en df 374 con registros en bd 374\n"
     ]
    }
   ],
   "source": [
    "verify_records_number(data, 'facts')"
   ]
  }
 ],
 "metadata": {
  "kernelspec": {
   "display_name": "Python 3 (ipykernel)",
   "language": "python",
   "name": "python3"
  },
  "language_info": {
   "codemirror_mode": {
    "name": "ipython",
    "version": 3
   },
   "file_extension": ".py",
   "mimetype": "text/x-python",
   "name": "python",
   "nbconvert_exporter": "python",
   "pygments_lexer": "ipython3",
   "version": "3.11.6"
  }
 },
 "nbformat": 4,
 "nbformat_minor": 5
}
